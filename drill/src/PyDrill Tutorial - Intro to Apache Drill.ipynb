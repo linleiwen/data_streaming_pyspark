{
 "cells": [
  {
   "cell_type": "markdown",
   "metadata": {},
   "source": [
    "# PyDrill Tutorial - Intro To Apache Drill"
   ]
  },
  {
   "cell_type": "markdown",
   "metadata": {},
   "source": [
    "## What Is Apache Drill?"
   ]
  },
  {
   "cell_type": "markdown",
   "metadata": {},
   "source": [
    "Apache Drill is an open-source software framework that supports data-intensive distributed applications for interactive analysis of large-scale datasets. Drill is the open source version of Google's `Dremel` system, now used within Google BigQuery. One of the goals with the Drill project is to make Drill scale to 10,000+ servers, and process data at the petabyte scale.\n",
    "\n",
    "In this tutorial, we'll be using PyDrill, the Python library that allows us to work with Apache Drill. This tutorial will show the following applications in PyDrill:\n",
    "\n",
    "    * Connecting to PyDrill\n",
    "    * Querying Tables\n",
    "    * Filtering Tables\n",
    "    * Self Joins\n",
    "    * Aggregations\n",
    "    * Transforming Data With Pandas\n",
    "    * Plotting Results"
   ]
  },
  {
   "cell_type": "markdown",
   "metadata": {},
   "source": [
    "## Prerequisites - Python"
   ]
  },
  {
   "cell_type": "markdown",
   "metadata": {},
   "source": [
    "This tutorial is run on an EC2 `t2.large` instance in AWS. However, the same tutorial can be run locally. To run this notebook locally.\n",
    "\n",
    "The following libraries are required for this tutorial:\n",
    "    \n",
    "    * PyDrill\n",
    "    * Pandas\n",
    "    * Matplotlib\n",
    "\n",
    "To install PyDrill, use `pip install pydrill`. You can reference the [PyDrill documentation](https://pydrill.readthedocs.io/en/latest/readme.html) for more information.\n"
   ]
  },
  {
   "cell_type": "markdown",
   "metadata": {},
   "source": [
    "## Prerequisites - Apache Drill"
   ]
  },
  {
   "cell_type": "markdown",
   "metadata": {},
   "source": [
    "1. Download Apache Drill from the [Drill website](https://drill.apache.org/download/)\n",
    "2. Configure your environment with the [Drill in 10 minutes tutorial](https://drill.apache.org/docs/drill-in-10-minutes/)\n",
    "3. In a new terminal window, launch Apache Drill. Then, proceed with this tutorial."
   ]
  },
  {
   "cell_type": "markdown",
   "metadata": {},
   "source": [
    "## Import Libraries"
   ]
  },
  {
   "cell_type": "code",
   "execution_count": 1,
   "metadata": {},
   "outputs": [],
   "source": [
    "import pandas as pd\n",
    "import matplotlib.pyplot as plt\n",
    "from pydrill.client import PyDrill"
   ]
  },
  {
   "cell_type": "markdown",
   "metadata": {},
   "source": [
    "## Connect to PyDrill"
   ]
  },
  {
   "cell_type": "markdown",
   "metadata": {},
   "source": [
    "Once you have Apache Drill configured and running, you can connect to the Drill host. In this case, the host is `localhost`, and the port is the default `8047`. Both should be the default whenever you launch a new instance of Drill, unless otherwise specified."
   ]
  },
  {
   "cell_type": "code",
   "execution_count": 2,
   "metadata": {},
   "outputs": [],
   "source": [
    "drill = PyDrill(host='localhost', port=8047)"
   ]
  },
  {
   "cell_type": "markdown",
   "metadata": {},
   "source": [
    "### Query - Total Employees "
   ]
  },
  {
   "cell_type": "markdown",
   "metadata": {},
   "source": [
    "Query the `employee.json` table with the following command in PyDrill. Notice the query syntax is near identical to standard SQL queries.\n",
    "\n",
    "The query below returns a total employee count, aliased as `total_employees`."
   ]
  },
  {
   "cell_type": "code",
   "execution_count": 3,
   "metadata": {},
   "outputs": [],
   "source": [
    "total_employees = drill.query('''\n",
    "    SELECT COUNT(*) AS total_employees\n",
    "    FROM cp.`employee.json`''')"
   ]
  },
  {
   "cell_type": "markdown",
   "metadata": {},
   "source": [
    "PyDrill has a killer app in the library: the ability to convert results to a Pandas DataFrame or dictionary, which can be referenced as JSON.\n",
    "\n",
    "To convert to a DataFrame, call the `to_dataframe()` method on the `total_employees` object."
   ]
  },
  {
   "cell_type": "code",
   "execution_count": 4,
   "metadata": {},
   "outputs": [
    {
     "data": {
      "text/html": [
       "<div>\n",
       "<style scoped>\n",
       "    .dataframe tbody tr th:only-of-type {\n",
       "        vertical-align: middle;\n",
       "    }\n",
       "\n",
       "    .dataframe tbody tr th {\n",
       "        vertical-align: top;\n",
       "    }\n",
       "\n",
       "    .dataframe thead th {\n",
       "        text-align: right;\n",
       "    }\n",
       "</style>\n",
       "<table border=\"1\" class=\"dataframe\">\n",
       "  <thead>\n",
       "    <tr style=\"text-align: right;\">\n",
       "      <th></th>\n",
       "      <th>total_employees</th>\n",
       "    </tr>\n",
       "  </thead>\n",
       "  <tbody>\n",
       "    <tr>\n",
       "      <th>0</th>\n",
       "      <td>1155</td>\n",
       "    </tr>\n",
       "  </tbody>\n",
       "</table>\n",
       "</div>"
      ],
      "text/plain": [
       "  total_employees\n",
       "0            1155"
      ]
     },
     "execution_count": 4,
     "metadata": {},
     "output_type": "execute_result"
    }
   ],
   "source": [
    "df_total_employees = total_employees.to_dataframe()\n",
    "df_total_employees"
   ]
  },
  {
   "cell_type": "markdown",
   "metadata": {},
   "source": [
    "Query the same results using the `data` method to see a dictionary output. Converting to a DataFrame will be used thorugh the rest of this notebook."
   ]
  },
  {
   "cell_type": "code",
   "execution_count": 5,
   "metadata": {},
   "outputs": [
    {
     "data": {
      "text/plain": [
       "{'queryId': '2403129b-93b4-75ca-234f-e6e5ffb6f472',\n",
       " 'columns': ['total_employees'],\n",
       " 'rows': [{'total_employees': '1155'}]}"
      ]
     },
     "execution_count": 5,
     "metadata": {},
     "output_type": "execute_result"
    }
   ],
   "source": [
    "total_employees.data"
   ]
  },
  {
   "cell_type": "markdown",
   "metadata": {},
   "source": [
    "### Query - Find All Vice President's"
   ]
  },
  {
   "cell_type": "markdown",
   "metadata": {},
   "source": [
    "Let's say we want to look for anyone who's a VP from the `employee` table. We can run the following query to see those employees."
   ]
  },
  {
   "cell_type": "code",
   "execution_count": 6,
   "metadata": {},
   "outputs": [],
   "source": [
    "drill_vp = drill.query('''\n",
    "    SELECT *\n",
    "    FROM cp.`employee.json`\n",
    "    WHERE position_title LIKE 'VP%' ''')"
   ]
  },
  {
   "cell_type": "code",
   "execution_count": 7,
   "metadata": {},
   "outputs": [
    {
     "data": {
      "text/html": [
       "<div>\n",
       "<style scoped>\n",
       "    .dataframe tbody tr th:only-of-type {\n",
       "        vertical-align: middle;\n",
       "    }\n",
       "\n",
       "    .dataframe tbody tr th {\n",
       "        vertical-align: top;\n",
       "    }\n",
       "\n",
       "    .dataframe thead th {\n",
       "        text-align: right;\n",
       "    }\n",
       "</style>\n",
       "<table border=\"1\" class=\"dataframe\">\n",
       "  <thead>\n",
       "    <tr style=\"text-align: right;\">\n",
       "      <th></th>\n",
       "      <th>birth_date</th>\n",
       "      <th>department_id</th>\n",
       "      <th>education_level</th>\n",
       "      <th>employee_id</th>\n",
       "      <th>first_name</th>\n",
       "      <th>full_name</th>\n",
       "      <th>gender</th>\n",
       "      <th>hire_date</th>\n",
       "      <th>last_name</th>\n",
       "      <th>management_role</th>\n",
       "      <th>marital_status</th>\n",
       "      <th>position_id</th>\n",
       "      <th>position_title</th>\n",
       "      <th>salary</th>\n",
       "      <th>store_id</th>\n",
       "      <th>supervisor_id</th>\n",
       "    </tr>\n",
       "  </thead>\n",
       "  <tbody>\n",
       "    <tr>\n",
       "      <th>0</th>\n",
       "      <td>1915-07-03</td>\n",
       "      <td>1</td>\n",
       "      <td>Graduate Degree</td>\n",
       "      <td>2</td>\n",
       "      <td>Derrick</td>\n",
       "      <td>Derrick Whelply</td>\n",
       "      <td>M</td>\n",
       "      <td>1994-12-01 00:00:00.0</td>\n",
       "      <td>Whelply</td>\n",
       "      <td>Senior Management</td>\n",
       "      <td>M</td>\n",
       "      <td>2</td>\n",
       "      <td>VP Country Manager</td>\n",
       "      <td>40000.0</td>\n",
       "      <td>0</td>\n",
       "      <td>1</td>\n",
       "    </tr>\n",
       "    <tr>\n",
       "      <th>1</th>\n",
       "      <td>1969-06-20</td>\n",
       "      <td>1</td>\n",
       "      <td>Graduate Degree</td>\n",
       "      <td>4</td>\n",
       "      <td>Michael</td>\n",
       "      <td>Michael Spence</td>\n",
       "      <td>M</td>\n",
       "      <td>1998-01-01 00:00:00.0</td>\n",
       "      <td>Spence</td>\n",
       "      <td>Senior Management</td>\n",
       "      <td>S</td>\n",
       "      <td>2</td>\n",
       "      <td>VP Country Manager</td>\n",
       "      <td>40000.0</td>\n",
       "      <td>0</td>\n",
       "      <td>1</td>\n",
       "    </tr>\n",
       "    <tr>\n",
       "      <th>2</th>\n",
       "      <td>1951-05-10</td>\n",
       "      <td>1</td>\n",
       "      <td>Bachelors Degree</td>\n",
       "      <td>5</td>\n",
       "      <td>Maya</td>\n",
       "      <td>Maya Gutierrez</td>\n",
       "      <td>F</td>\n",
       "      <td>1998-01-01 00:00:00.0</td>\n",
       "      <td>Gutierrez</td>\n",
       "      <td>Senior Management</td>\n",
       "      <td>M</td>\n",
       "      <td>2</td>\n",
       "      <td>VP Country Manager</td>\n",
       "      <td>35000.0</td>\n",
       "      <td>0</td>\n",
       "      <td>1</td>\n",
       "    </tr>\n",
       "    <tr>\n",
       "      <th>3</th>\n",
       "      <td>1942-10-08</td>\n",
       "      <td>2</td>\n",
       "      <td>Bachelors Degree</td>\n",
       "      <td>6</td>\n",
       "      <td>Roberta</td>\n",
       "      <td>Roberta Damstra</td>\n",
       "      <td>F</td>\n",
       "      <td>1994-12-01 00:00:00.0</td>\n",
       "      <td>Damstra</td>\n",
       "      <td>Senior Management</td>\n",
       "      <td>M</td>\n",
       "      <td>3</td>\n",
       "      <td>VP Information Systems</td>\n",
       "      <td>25000.0</td>\n",
       "      <td>0</td>\n",
       "      <td>1</td>\n",
       "    </tr>\n",
       "    <tr>\n",
       "      <th>4</th>\n",
       "      <td>1949-03-27</td>\n",
       "      <td>3</td>\n",
       "      <td>Bachelors Degree</td>\n",
       "      <td>7</td>\n",
       "      <td>Rebecca</td>\n",
       "      <td>Rebecca Kanagaki</td>\n",
       "      <td>F</td>\n",
       "      <td>1994-12-01 00:00:00.0</td>\n",
       "      <td>Kanagaki</td>\n",
       "      <td>Senior Management</td>\n",
       "      <td>M</td>\n",
       "      <td>4</td>\n",
       "      <td>VP Human Resources</td>\n",
       "      <td>15000.0</td>\n",
       "      <td>0</td>\n",
       "      <td>1</td>\n",
       "    </tr>\n",
       "    <tr>\n",
       "      <th>5</th>\n",
       "      <td>1949-08-26</td>\n",
       "      <td>5</td>\n",
       "      <td>Partial College</td>\n",
       "      <td>10</td>\n",
       "      <td>Darren</td>\n",
       "      <td>Darren Stanz</td>\n",
       "      <td>M</td>\n",
       "      <td>1994-12-01 00:00:00.0</td>\n",
       "      <td>Stanz</td>\n",
       "      <td>Senior Management</td>\n",
       "      <td>M</td>\n",
       "      <td>5</td>\n",
       "      <td>VP Finance</td>\n",
       "      <td>50000.0</td>\n",
       "      <td>0</td>\n",
       "      <td>1</td>\n",
       "    </tr>\n",
       "    <tr>\n",
       "      <th>6</th>\n",
       "      <td>1974-04-16</td>\n",
       "      <td>1</td>\n",
       "      <td>Bachelors Degree</td>\n",
       "      <td>20</td>\n",
       "      <td>Beverly</td>\n",
       "      <td>Beverly Baker</td>\n",
       "      <td>F</td>\n",
       "      <td>1994-12-01 00:00:00.0</td>\n",
       "      <td>Baker</td>\n",
       "      <td>Senior Management</td>\n",
       "      <td>M</td>\n",
       "      <td>2</td>\n",
       "      <td>VP Country Manager</td>\n",
       "      <td>30000.0</td>\n",
       "      <td>0</td>\n",
       "      <td>2</td>\n",
       "    </tr>\n",
       "    <tr>\n",
       "      <th>7</th>\n",
       "      <td>1918-11-04</td>\n",
       "      <td>1</td>\n",
       "      <td>Bachelors Degree</td>\n",
       "      <td>21</td>\n",
       "      <td>Pedro</td>\n",
       "      <td>Pedro Castillo</td>\n",
       "      <td>M</td>\n",
       "      <td>1994-12-01 00:00:00.0</td>\n",
       "      <td>Castillo</td>\n",
       "      <td>Senior Management</td>\n",
       "      <td>M</td>\n",
       "      <td>2</td>\n",
       "      <td>VP Country Manager</td>\n",
       "      <td>35000.0</td>\n",
       "      <td>0</td>\n",
       "      <td>2</td>\n",
       "    </tr>\n",
       "    <tr>\n",
       "      <th>8</th>\n",
       "      <td>1947-10-07</td>\n",
       "      <td>1</td>\n",
       "      <td>Bachelors Degree</td>\n",
       "      <td>22</td>\n",
       "      <td>Laurie</td>\n",
       "      <td>Laurie Borges</td>\n",
       "      <td>F</td>\n",
       "      <td>1994-12-01 00:00:00.0</td>\n",
       "      <td>Borges</td>\n",
       "      <td>Senior Management</td>\n",
       "      <td>M</td>\n",
       "      <td>2</td>\n",
       "      <td>VP Country Manager</td>\n",
       "      <td>35000.0</td>\n",
       "      <td>0</td>\n",
       "      <td>2</td>\n",
       "    </tr>\n",
       "  </tbody>\n",
       "</table>\n",
       "</div>"
      ],
      "text/plain": [
       "   birth_date department_id   education_level employee_id first_name  \\\n",
       "0  1915-07-03             1   Graduate Degree           2    Derrick   \n",
       "1  1969-06-20             1   Graduate Degree           4    Michael   \n",
       "2  1951-05-10             1  Bachelors Degree           5       Maya   \n",
       "3  1942-10-08             2  Bachelors Degree           6    Roberta   \n",
       "4  1949-03-27             3  Bachelors Degree           7    Rebecca   \n",
       "5  1949-08-26             5   Partial College          10     Darren   \n",
       "6  1974-04-16             1  Bachelors Degree          20    Beverly   \n",
       "7  1918-11-04             1  Bachelors Degree          21      Pedro   \n",
       "8  1947-10-07             1  Bachelors Degree          22     Laurie   \n",
       "\n",
       "          full_name gender              hire_date  last_name  \\\n",
       "0   Derrick Whelply      M  1994-12-01 00:00:00.0    Whelply   \n",
       "1    Michael Spence      M  1998-01-01 00:00:00.0     Spence   \n",
       "2    Maya Gutierrez      F  1998-01-01 00:00:00.0  Gutierrez   \n",
       "3   Roberta Damstra      F  1994-12-01 00:00:00.0    Damstra   \n",
       "4  Rebecca Kanagaki      F  1994-12-01 00:00:00.0   Kanagaki   \n",
       "5      Darren Stanz      M  1994-12-01 00:00:00.0      Stanz   \n",
       "6     Beverly Baker      F  1994-12-01 00:00:00.0      Baker   \n",
       "7    Pedro Castillo      M  1994-12-01 00:00:00.0   Castillo   \n",
       "8     Laurie Borges      F  1994-12-01 00:00:00.0     Borges   \n",
       "\n",
       "     management_role marital_status position_id          position_title  \\\n",
       "0  Senior Management              M           2      VP Country Manager   \n",
       "1  Senior Management              S           2      VP Country Manager   \n",
       "2  Senior Management              M           2      VP Country Manager   \n",
       "3  Senior Management              M           3  VP Information Systems   \n",
       "4  Senior Management              M           4      VP Human Resources   \n",
       "5  Senior Management              M           5              VP Finance   \n",
       "6  Senior Management              M           2      VP Country Manager   \n",
       "7  Senior Management              M           2      VP Country Manager   \n",
       "8  Senior Management              M           2      VP Country Manager   \n",
       "\n",
       "    salary store_id supervisor_id  \n",
       "0  40000.0        0             1  \n",
       "1  40000.0        0             1  \n",
       "2  35000.0        0             1  \n",
       "3  25000.0        0             1  \n",
       "4  15000.0        0             1  \n",
       "5  50000.0        0             1  \n",
       "6  30000.0        0             2  \n",
       "7  35000.0        0             2  \n",
       "8  35000.0        0             2  "
      ]
     },
     "execution_count": 7,
     "metadata": {},
     "output_type": "execute_result"
    }
   ],
   "source": [
    "df_vp = drill_vp.to_dataframe()\n",
    "df_vp"
   ]
  },
  {
   "cell_type": "markdown",
   "metadata": {},
   "source": [
    "### Query - Manager Self Join"
   ]
  },
  {
   "cell_type": "markdown",
   "metadata": {},
   "source": [
    "What if we want to fin out who manages who? Similar to SQL, Drill gives you the ability to join tables, including self-joins! The following query shows all employees, and their respective managers. This is limited to 20 rows, but the limit can be removed to return the full result set.\n",
    "\n",
    "_Make sure to use back ticks for the table references, and apostrophes for the `LIKE` clause._"
   ]
  },
  {
   "cell_type": "code",
   "execution_count": 8,
   "metadata": {},
   "outputs": [],
   "source": [
    "drill_managers = drill.query('''\n",
    "    SELECT A.first_name AS A_first_name,\n",
    "    A.last_name AS A_last_name,\n",
    "    B.first_name AS manager_first_name,\n",
    "    B.last_name AS manager_last_name\n",
    "    FROM cp.`employee.json` A\n",
    "    JOIN cp.`employee.json` B ON A.supervisor_id = B.employee_id\n",
    "    LIMIT 20''')"
   ]
  },
  {
   "cell_type": "code",
   "execution_count": 9,
   "metadata": {},
   "outputs": [
    {
     "data": {
      "text/html": [
       "<div>\n",
       "<style scoped>\n",
       "    .dataframe tbody tr th:only-of-type {\n",
       "        vertical-align: middle;\n",
       "    }\n",
       "\n",
       "    .dataframe tbody tr th {\n",
       "        vertical-align: top;\n",
       "    }\n",
       "\n",
       "    .dataframe thead th {\n",
       "        text-align: right;\n",
       "    }\n",
       "</style>\n",
       "<table border=\"1\" class=\"dataframe\">\n",
       "  <thead>\n",
       "    <tr style=\"text-align: right;\">\n",
       "      <th></th>\n",
       "      <th>A_first_name</th>\n",
       "      <th>A_last_name</th>\n",
       "      <th>manager_first_name</th>\n",
       "      <th>manager_last_name</th>\n",
       "    </tr>\n",
       "  </thead>\n",
       "  <tbody>\n",
       "    <tr>\n",
       "      <th>0</th>\n",
       "      <td>Derrick</td>\n",
       "      <td>Whelply</td>\n",
       "      <td>Sheri</td>\n",
       "      <td>Nowmer</td>\n",
       "    </tr>\n",
       "    <tr>\n",
       "      <th>1</th>\n",
       "      <td>Donna</td>\n",
       "      <td>Arnold</td>\n",
       "      <td>Sheri</td>\n",
       "      <td>Nowmer</td>\n",
       "    </tr>\n",
       "    <tr>\n",
       "      <th>2</th>\n",
       "      <td>Darren</td>\n",
       "      <td>Stanz</td>\n",
       "      <td>Sheri</td>\n",
       "      <td>Nowmer</td>\n",
       "    </tr>\n",
       "    <tr>\n",
       "      <th>3</th>\n",
       "      <td>Rebecca</td>\n",
       "      <td>Kanagaki</td>\n",
       "      <td>Sheri</td>\n",
       "      <td>Nowmer</td>\n",
       "    </tr>\n",
       "    <tr>\n",
       "      <th>4</th>\n",
       "      <td>Roberta</td>\n",
       "      <td>Damstra</td>\n",
       "      <td>Sheri</td>\n",
       "      <td>Nowmer</td>\n",
       "    </tr>\n",
       "    <tr>\n",
       "      <th>5</th>\n",
       "      <td>Maya</td>\n",
       "      <td>Gutierrez</td>\n",
       "      <td>Sheri</td>\n",
       "      <td>Nowmer</td>\n",
       "    </tr>\n",
       "    <tr>\n",
       "      <th>6</th>\n",
       "      <td>Michael</td>\n",
       "      <td>Spence</td>\n",
       "      <td>Sheri</td>\n",
       "      <td>Nowmer</td>\n",
       "    </tr>\n",
       "    <tr>\n",
       "      <th>7</th>\n",
       "      <td>Beverly</td>\n",
       "      <td>Baker</td>\n",
       "      <td>Derrick</td>\n",
       "      <td>Whelply</td>\n",
       "    </tr>\n",
       "    <tr>\n",
       "      <th>8</th>\n",
       "      <td>Laurie</td>\n",
       "      <td>Borges</td>\n",
       "      <td>Derrick</td>\n",
       "      <td>Whelply</td>\n",
       "    </tr>\n",
       "    <tr>\n",
       "      <th>9</th>\n",
       "      <td>Pedro</td>\n",
       "      <td>Castillo</td>\n",
       "      <td>Derrick</td>\n",
       "      <td>Whelply</td>\n",
       "    </tr>\n",
       "    <tr>\n",
       "      <th>10</th>\n",
       "      <td>Daniel</td>\n",
       "      <td>Wolter</td>\n",
       "      <td>Michael</td>\n",
       "      <td>Spence</td>\n",
       "    </tr>\n",
       "    <tr>\n",
       "      <th>11</th>\n",
       "      <td>Dianne</td>\n",
       "      <td>Collins</td>\n",
       "      <td>Michael</td>\n",
       "      <td>Spence</td>\n",
       "    </tr>\n",
       "    <tr>\n",
       "      <th>12</th>\n",
       "      <td>Kim</td>\n",
       "      <td>Brunner</td>\n",
       "      <td>Maya</td>\n",
       "      <td>Gutierrez</td>\n",
       "    </tr>\n",
       "    <tr>\n",
       "      <th>13</th>\n",
       "      <td>Brenda</td>\n",
       "      <td>Marshall</td>\n",
       "      <td>Maya</td>\n",
       "      <td>Gutierrez</td>\n",
       "    </tr>\n",
       "    <tr>\n",
       "      <th>14</th>\n",
       "      <td>Peggy</td>\n",
       "      <td>Planck</td>\n",
       "      <td>Maya</td>\n",
       "      <td>Gutierrez</td>\n",
       "    </tr>\n",
       "    <tr>\n",
       "      <th>15</th>\n",
       "      <td>Walter</td>\n",
       "      <td>Cavestany</td>\n",
       "      <td>Maya</td>\n",
       "      <td>Gutierrez</td>\n",
       "    </tr>\n",
       "    <tr>\n",
       "      <th>16</th>\n",
       "      <td>Bryan</td>\n",
       "      <td>Rutledge</td>\n",
       "      <td>Maya</td>\n",
       "      <td>Gutierrez</td>\n",
       "    </tr>\n",
       "    <tr>\n",
       "      <th>17</th>\n",
       "      <td>Peggy</td>\n",
       "      <td>Medina</td>\n",
       "      <td>Maya</td>\n",
       "      <td>Gutierrez</td>\n",
       "    </tr>\n",
       "    <tr>\n",
       "      <th>18</th>\n",
       "      <td>Jewel</td>\n",
       "      <td>Creek</td>\n",
       "      <td>Maya</td>\n",
       "      <td>Gutierrez</td>\n",
       "    </tr>\n",
       "    <tr>\n",
       "      <th>19</th>\n",
       "      <td>Jonathan</td>\n",
       "      <td>Murraiin</td>\n",
       "      <td>Maya</td>\n",
       "      <td>Gutierrez</td>\n",
       "    </tr>\n",
       "  </tbody>\n",
       "</table>\n",
       "</div>"
      ],
      "text/plain": [
       "   A_first_name A_last_name manager_first_name manager_last_name\n",
       "0       Derrick     Whelply              Sheri            Nowmer\n",
       "1         Donna      Arnold              Sheri            Nowmer\n",
       "2        Darren       Stanz              Sheri            Nowmer\n",
       "3       Rebecca    Kanagaki              Sheri            Nowmer\n",
       "4       Roberta     Damstra              Sheri            Nowmer\n",
       "5          Maya   Gutierrez              Sheri            Nowmer\n",
       "6       Michael      Spence              Sheri            Nowmer\n",
       "7       Beverly       Baker            Derrick           Whelply\n",
       "8        Laurie      Borges            Derrick           Whelply\n",
       "9         Pedro    Castillo            Derrick           Whelply\n",
       "10       Daniel      Wolter            Michael            Spence\n",
       "11       Dianne     Collins            Michael            Spence\n",
       "12          Kim     Brunner               Maya         Gutierrez\n",
       "13       Brenda    Marshall               Maya         Gutierrez\n",
       "14        Peggy      Planck               Maya         Gutierrez\n",
       "15       Walter   Cavestany               Maya         Gutierrez\n",
       "16        Bryan    Rutledge               Maya         Gutierrez\n",
       "17        Peggy      Medina               Maya         Gutierrez\n",
       "18        Jewel       Creek               Maya         Gutierrez\n",
       "19     Jonathan    Murraiin               Maya         Gutierrez"
      ]
     },
     "execution_count": 9,
     "metadata": {},
     "output_type": "execute_result"
    }
   ],
   "source": [
    "df_managers = drill_managers.to_dataframe()\n",
    "df_managers"
   ]
  },
  {
   "cell_type": "markdown",
   "metadata": {},
   "source": [
    "### Query - Employee Education"
   ]
  },
  {
   "cell_type": "markdown",
   "metadata": {},
   "source": [
    "Apache Drill (and by extension, PyDrill) gives you the ability to perform aggregations.\n",
    "\n",
    "The following query shows a count of employees by highest education level."
   ]
  },
  {
   "cell_type": "code",
   "execution_count": 10,
   "metadata": {},
   "outputs": [],
   "source": [
    "drill_education = drill.query('''\n",
    "    SELECT education_level,\n",
    "    COUNT(*) AS total_employees\n",
    "    FROM cp.`employee.json`\n",
    "    GROUP BY education_level\n",
    "    ORDER BY total_employees DESC ''')"
   ]
  },
  {
   "cell_type": "markdown",
   "metadata": {},
   "source": [
    "Convert the results to a Pandas DataFrame."
   ]
  },
  {
   "cell_type": "code",
   "execution_count": 11,
   "metadata": {},
   "outputs": [
    {
     "data": {
      "text/html": [
       "<div>\n",
       "<style scoped>\n",
       "    .dataframe tbody tr th:only-of-type {\n",
       "        vertical-align: middle;\n",
       "    }\n",
       "\n",
       "    .dataframe tbody tr th {\n",
       "        vertical-align: top;\n",
       "    }\n",
       "\n",
       "    .dataframe thead th {\n",
       "        text-align: right;\n",
       "    }\n",
       "</style>\n",
       "<table border=\"1\" class=\"dataframe\">\n",
       "  <thead>\n",
       "    <tr style=\"text-align: right;\">\n",
       "      <th></th>\n",
       "      <th>education_level</th>\n",
       "      <th>total_employees</th>\n",
       "    </tr>\n",
       "  </thead>\n",
       "  <tbody>\n",
       "    <tr>\n",
       "      <th>0</th>\n",
       "      <td>Partial College</td>\n",
       "      <td>288</td>\n",
       "    </tr>\n",
       "    <tr>\n",
       "      <th>1</th>\n",
       "      <td>Bachelors Degree</td>\n",
       "      <td>287</td>\n",
       "    </tr>\n",
       "    <tr>\n",
       "      <th>2</th>\n",
       "      <td>High School Degree</td>\n",
       "      <td>281</td>\n",
       "    </tr>\n",
       "    <tr>\n",
       "      <th>3</th>\n",
       "      <td>Graduate Degree</td>\n",
       "      <td>170</td>\n",
       "    </tr>\n",
       "    <tr>\n",
       "      <th>4</th>\n",
       "      <td>Partial High School</td>\n",
       "      <td>129</td>\n",
       "    </tr>\n",
       "  </tbody>\n",
       "</table>\n",
       "</div>"
      ],
      "text/plain": [
       "       education_level total_employees\n",
       "0      Partial College             288\n",
       "1     Bachelors Degree             287\n",
       "2   High School Degree             281\n",
       "3      Graduate Degree             170\n",
       "4  Partial High School             129"
      ]
     },
     "execution_count": 11,
     "metadata": {},
     "output_type": "execute_result"
    }
   ],
   "source": [
    "df_education = drill_education.to_dataframe()\n",
    "df_education"
   ]
  },
  {
   "cell_type": "markdown",
   "metadata": {},
   "source": [
    "If we want the percentage of each education level, that's also possible within Pandas.\n",
    "\n",
    "First, convert the `total_employees` column from `object` to `int32`."
   ]
  },
  {
   "cell_type": "code",
   "execution_count": 12,
   "metadata": {},
   "outputs": [],
   "source": [
    "df_education[\"total_employees\"] = df_education[\"total_employees\"].astype(\"int32\")"
   ]
  },
  {
   "cell_type": "markdown",
   "metadata": {},
   "source": [
    "Now, divide `total_employees` by the sum of `total_employees`, and multiply by `100` (for readability)."
   ]
  },
  {
   "cell_type": "code",
   "execution_count": 13,
   "metadata": {},
   "outputs": [],
   "source": [
    "df_education[\"pct_education\"] = (df_education[\"total_employees\"] / df_education[\"total_employees\"].sum() * 100)"
   ]
  },
  {
   "cell_type": "code",
   "execution_count": 14,
   "metadata": {},
   "outputs": [
    {
     "data": {
      "text/html": [
       "<div>\n",
       "<style scoped>\n",
       "    .dataframe tbody tr th:only-of-type {\n",
       "        vertical-align: middle;\n",
       "    }\n",
       "\n",
       "    .dataframe tbody tr th {\n",
       "        vertical-align: top;\n",
       "    }\n",
       "\n",
       "    .dataframe thead th {\n",
       "        text-align: right;\n",
       "    }\n",
       "</style>\n",
       "<table border=\"1\" class=\"dataframe\">\n",
       "  <thead>\n",
       "    <tr style=\"text-align: right;\">\n",
       "      <th></th>\n",
       "      <th>education_level</th>\n",
       "      <th>total_employees</th>\n",
       "      <th>pct_education</th>\n",
       "    </tr>\n",
       "  </thead>\n",
       "  <tbody>\n",
       "    <tr>\n",
       "      <th>0</th>\n",
       "      <td>Partial College</td>\n",
       "      <td>288</td>\n",
       "      <td>24.935065</td>\n",
       "    </tr>\n",
       "    <tr>\n",
       "      <th>1</th>\n",
       "      <td>Bachelors Degree</td>\n",
       "      <td>287</td>\n",
       "      <td>24.848485</td>\n",
       "    </tr>\n",
       "    <tr>\n",
       "      <th>2</th>\n",
       "      <td>High School Degree</td>\n",
       "      <td>281</td>\n",
       "      <td>24.329004</td>\n",
       "    </tr>\n",
       "    <tr>\n",
       "      <th>3</th>\n",
       "      <td>Graduate Degree</td>\n",
       "      <td>170</td>\n",
       "      <td>14.718615</td>\n",
       "    </tr>\n",
       "    <tr>\n",
       "      <th>4</th>\n",
       "      <td>Partial High School</td>\n",
       "      <td>129</td>\n",
       "      <td>11.168831</td>\n",
       "    </tr>\n",
       "  </tbody>\n",
       "</table>\n",
       "</div>"
      ],
      "text/plain": [
       "       education_level  total_employees  pct_education\n",
       "0      Partial College              288      24.935065\n",
       "1     Bachelors Degree              287      24.848485\n",
       "2   High School Degree              281      24.329004\n",
       "3      Graduate Degree              170      14.718615\n",
       "4  Partial High School              129      11.168831"
      ]
     },
     "execution_count": 14,
     "metadata": {},
     "output_type": "execute_result"
    }
   ],
   "source": [
    "df_education"
   ]
  },
  {
   "cell_type": "markdown",
   "metadata": {},
   "source": [
    "### Plot Education Level Results"
   ]
  },
  {
   "cell_type": "markdown",
   "metadata": {},
   "source": [
    "Once the data's in the right format, you have the ability to visualize the data within Matplotlib, due to data being in a Pandas DataFrame format.\n",
    "\n",
    "The code below plots a pie chart of education levels."
   ]
  },
  {
   "cell_type": "code",
   "execution_count": 15,
   "metadata": {},
   "outputs": [
    {
     "data": {
      "image/png": "[encoded data removed]",
      "text/plain": [
       "<Figure size 720x720 with 1 Axes>"
      ]
     },
     "metadata": {},
     "output_type": "display_data"
    }
   ],
   "source": [
    "# df_education data to plot\n",
    "labels = tuple(df_education.education_level)\n",
    "sizes = df_education.total_employees.tolist()\n",
    "colors = ['gold', 'yellowgreen', 'orange', 'lightskyblue', 'skyblue']\n",
    " \n",
    "# Plot data in pie chart\n",
    "plt.figure(figsize=(10,10))\n",
    "plt.pie(sizes, labels=labels, colors=colors, autopct='%1.1f%%', shadow=True, startangle=90)\n",
    "plt.axis('equal')\n",
    "plt.show()"
   ]
  },
  {
   "cell_type": "markdown",
   "metadata": {},
   "source": [
    "## Conclusion"
   ]
  },
  {
   "cell_type": "markdown",
   "metadata": {},
   "source": [
    "This completes the introduction to PyDrill. As referenced in the beginning, you should now know how to do the following with PyDrill:\n",
    "    \n",
    "    * Connecting to PyDrill\n",
    "    * Querying Tables\n",
    "    * Filtering Tables\n",
    "    * Self Joins\n",
    "    * Aggregations\n",
    "    * Transforming Data With Pandas\n",
    "    * Plotting Results\n",
    "    "
   ]
  }
 ],
 "metadata": {
  "kernelspec": {
   "display_name": "Python 3",
   "language": "python",
   "name": "python3"
  },
  "language_info": {
   "codemirror_mode": {
    "name": "ipython",
    "version": 3
   },
   "file_extension": ".py",
   "mimetype": "text/x-python",
   "name": "python",
   "nbconvert_exporter": "python",
   "pygments_lexer": "ipython3",
   "version": "3.6.5"
  }
 },
 "nbformat": 4,
 "nbformat_minor": 2
}
